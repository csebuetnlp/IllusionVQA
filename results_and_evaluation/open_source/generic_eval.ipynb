{
 "cells": [
  {
   "cell_type": "code",
   "execution_count": 21,
   "metadata": {},
   "outputs": [],
   "source": [
    "import json\n",
    "import prettytable\n",
    "import random\n",
    "from collections import defaultdict \n",
    "\n",
    "random.seed(53)\n",
    "\n",
    "MODEL_ANSWER_KEY =\"intern_answer\"\n",
    "FILE_PATH = \"results/comprehension_intern_results.json\"\n",
    "category_correct = defaultdict(int)\n",
    "category_total = defaultdict(int)\n",
    "\n",
    "\n",
    "with open(FILE_PATH) as f:\n",
    "    dataset = json.load(f)\n",
    "\n",
    "\n",
    "for item in dataset:\n",
    "    model_answer = item[MODEL_ANSWER_KEY][0]\n",
    "\n",
    "    answer = item['correct_option_letter']\n",
    "    category = item['category']\n",
    "\n",
    "    if model_answer == answer:\n",
    "        category_correct[category] += 1\n",
    "\n",
    "        \n",
    "    category_total[category] += 1\n",
    "    \n",
    "   "
   ]
  },
  {
   "cell_type": "code",
   "execution_count": 22,
   "metadata": {},
   "outputs": [
    {
     "name": "stdout",
     "output_type": "stream",
     "text": [
      "Accuracy:  0.45057471264367815\n",
      "Total:  435\n"
     ]
    }
   ],
   "source": [
    "total_correct = 0\n",
    "total = 0\n",
    "\n",
    "for category in category_total:\n",
    "    total_correct += category_correct[category]\n",
    "    total += category_total[category]\n",
    "\n",
    "print(\"Accuracy: \", total_correct / total)\n",
    "print(\"Total: \", total)"
   ]
  },
  {
   "cell_type": "code",
   "execution_count": 23,
   "metadata": {},
   "outputs": [
    {
     "name": "stdout",
     "output_type": "stream",
     "text": [
      "+-------------------------+-------+---------------------+\n",
      "|         Category        | Total |    intern_answer    |\n",
      "+-------------------------+-------+---------------------+\n",
      "|    impossible object    |  134  |  0.4925373134328358 |\n",
      "|        real-scene       |   64  |       0.40625       |\n",
      "|           size          |   46  | 0.43478260869565216 |\n",
      "|          hidden         |   45  |  0.4444444444444444 |\n",
      "|     deceptive design    |   37  |  0.3783783783783784 |\n",
      "|      angle illusion     |   26  |         0.5         |\n",
      "|          color          |   23  |  0.2608695652173913 |\n",
      "|       edited-scene      |   21  |  0.6666666666666666 |\n",
      "|         counting        |   11  | 0.45454545454545453 |\n",
      "|       upside-down       |   7   |  0.8571428571428571 |\n",
      "| positive-negative space |   7   | 0.42857142857142855 |\n",
      "|      circle-spiral      |   6   |         0.0         |\n",
      "|    repeating pattern    |   2   |         0.5         |\n",
      "|       perspective       |   2   |         0.5         |\n",
      "|        occlusion        |   2   |         0.5         |\n",
      "|     angle constancy     |   2   |         0.0         |\n",
      "+-------------------------+-------+---------------------+\n"
     ]
    }
   ],
   "source": [
    "table = prettytable.PrettyTable()\n",
    "table.field_names = [\"Category\", \"Total\", MODEL_ANSWER_KEY]\n",
    "for category in category_total:\n",
    "    table.add_row([category, category_total[category],\n",
    "                     category_correct[category] / category_total[category]\n",
    "                     ])\n",
    "#sort by total\n",
    "table.sortby = \"Total\"\n",
    "table.reversesort = True\n",
    "print(table)"
   ]
  },
  {
   "cell_type": "code",
   "execution_count": 24,
   "metadata": {},
   "outputs": [
    {
     "name": "stdout",
     "output_type": "stream",
     "text": [
      "Misc Accuracy:  0.42105263157894735\n"
     ]
    }
   ],
   "source": [
    "misc_categories = [\"counting\", \"repeating pattern\", \"perspective\", \"occlusion\", \"angle constancy\"]\n",
    "\n",
    "total_misc_correct = 0\n",
    "total_misc = 0\n",
    "\n",
    "for category in misc_categories:\n",
    "    total_misc_correct += category_correct[category]\n",
    "    total_misc += category_total[category]\n",
    "\n",
    "print(\"Misc Accuracy: \", total_misc_correct / total_misc)"
   ]
  },
  {
   "cell_type": "code",
   "execution_count": 25,
   "metadata": {},
   "outputs": [
    {
     "name": "stdout",
     "output_type": "stream",
     "text": [
      "+-------------------------+-------+---------------------+\n",
      "|         Category        | Total |    intern_answer    |\n",
      "+-------------------------+-------+---------------------+\n",
      "|          Total          |  435  | 0.45057471264367815 |\n",
      "|    impossible object    |  134  |  0.4925373134328358 |\n",
      "|        real-scene       |   64  |       0.40625       |\n",
      "|           size          |   46  | 0.43478260869565216 |\n",
      "|          hidden         |   45  |  0.4444444444444444 |\n",
      "|     deceptive design    |   37  |  0.3783783783783784 |\n",
      "|      angle illusion     |   26  |         0.5         |\n",
      "|          color          |   23  |  0.2608695652173913 |\n",
      "|       edited-scene      |   21  |  0.6666666666666666 |\n",
      "|           Misc          |   19  | 0.42105263157894735 |\n",
      "|       upside-down       |   7   |  0.8571428571428571 |\n",
      "| positive-negative space |   7   | 0.42857142857142855 |\n",
      "|      circle-spiral      |   6   |         0.0         |\n",
      "+-------------------------+-------+---------------------+\n"
     ]
    }
   ],
   "source": [
    "misc_categories = [\"counting\", \"repeating pattern\", \"perspective\", \"occlusion\", \"angle constancy\"]\n",
    "\n",
    "new_table = prettytable.PrettyTable()\n",
    "new_table.field_names = [\"Category\", \"Total\", MODEL_ANSWER_KEY]\n",
    "for category in category_total:\n",
    "    if category not in misc_categories:\n",
    "        new_table.add_row([category, category_total[category],\n",
    "                     category_correct[category] / category_total[category]\n",
    "                     ])\n",
    "\n",
    "new_table.add_row([\"Misc\", total_misc, total_misc_correct / total_misc])\n",
    "new_table.add_row([\"Total\", total, total_correct / total])\n",
    "\n",
    "# sort by total\n",
    "new_table.sortby = \"Total\"\n",
    "new_table.reversesort = True\n",
    "\n",
    "\n",
    "print(new_table)"
   ]
  }
 ],
 "metadata": {
  "kernelspec": {
   "display_name": "Python 3",
   "language": "python",
   "name": "python3"
  },
  "language_info": {
   "codemirror_mode": {
    "name": "ipython",
    "version": 3
   },
   "file_extension": ".py",
   "mimetype": "text/x-python",
   "name": "python",
   "nbconvert_exporter": "python",
   "pygments_lexer": "ipython3",
   "version": "3.12.4"
  }
 },
 "nbformat": 4,
 "nbformat_minor": 2
}
