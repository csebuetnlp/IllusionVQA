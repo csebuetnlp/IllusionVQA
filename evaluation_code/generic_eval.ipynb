{
 "cells": [
  {
   "cell_type": "code",
   "execution_count": 13,
   "metadata": {},
   "outputs": [],
   "source": [
    "import json\n",
    "import prettytable\n",
    "import random\n",
    "from collections import defaultdict\n",
    "\n",
    "random.seed(53)\n",
    "\n",
    "MODEL_ANSWER_KEY = \"llava_onevision_ans\"\n",
    "FILE_PATH = \"../result_jsons/llava_onevision_qwen2_7b_sofloc_0shot.json\"\n",
    "category_correct = defaultdict(int)\n",
    "category_total = defaultdict(int)\n",
    "\n",
    "\n",
    "with open(FILE_PATH) as f:\n",
    "    dataset = json.load(f)\n",
    "\n",
    "\n",
    "for item in dataset:\n",
    "    model_answer = item.get(MODEL_ANSWER_KEY, \"a\")[0]\n",
    "\n",
    "    answer = item[\"correct_option_letter\"]\n",
    "    category = item[\"category\"]\n",
    "\n",
    "    if model_answer == answer:\n",
    "        category_correct[category] += 1\n",
    "\n",
    "    category_total[category] += 1"
   ]
  },
  {
   "cell_type": "code",
   "execution_count": 14,
   "metadata": {},
   "outputs": [
    {
     "name": "stdout",
     "output_type": "stream",
     "text": [
      "Accuracy:  0.373\n",
      "Total:  1000\n"
     ]
    }
   ],
   "source": [
    "total_correct = 0\n",
    "total = 0\n",
    "\n",
    "for category in category_total:\n",
    "    total_correct += category_correct[category]\n",
    "    total += category_total[category]\n",
    "\n",
    "print(\"Accuracy: \", total_correct / total)\n",
    "print(\"Total: \", total)"
   ]
  },
  {
   "cell_type": "code",
   "execution_count": 15,
   "metadata": {},
   "outputs": [
    {
     "name": "stdout",
     "output_type": "stream",
     "text": [
      "+-------------------+-------+---------------------+\n",
      "|      Category     | Total | llava_onevision_ans |\n",
      "+-------------------+-------+---------------------+\n",
      "| soft_localization |  1000 |        0.373        |\n",
      "+-------------------+-------+---------------------+\n"
     ]
    }
   ],
   "source": [
    "table = prettytable.PrettyTable()\n",
    "table.field_names = [\"Category\", \"Total\", MODEL_ANSWER_KEY]\n",
    "for category in category_total:\n",
    "    table.add_row([category, category_total[category],\n",
    "                     category_correct[category] / category_total[category]\n",
    "                     ])\n",
    "#sort by total\n",
    "table.sortby = \"Total\"\n",
    "table.reversesort = True\n",
    "print(table)"
   ]
  },
  {
   "cell_type": "code",
   "execution_count": 16,
   "metadata": {},
   "outputs": [],
   "source": [
    "misc_categories = [\"counting\", \"repeating pattern\", \"perspective\", \"occlusion\", \"angle constancy\"]\n",
    "\n",
    "total_misc_correct = 0\n",
    "total_misc = 0\n",
    "\n",
    "for category in misc_categories:\n",
    "    total_misc_correct += category_correct[category]\n",
    "    total_misc += category_total[category]\n",
    "\n",
    "\n",
    "if total_misc > 0:\n",
    "    print(\"Misc Accuracy: \", total_misc_correct / total_misc)"
   ]
  },
  {
   "cell_type": "code",
   "execution_count": 17,
   "metadata": {},
   "outputs": [
    {
     "name": "stdout",
     "output_type": "stream",
     "text": [
      "+-------------------+-------+---------------------+\n",
      "|      Category     | Total | llava_onevision_ans |\n",
      "+-------------------+-------+---------------------+\n",
      "| soft_localization |  1000 |        0.373        |\n",
      "|       Total       |  1000 |        0.373        |\n",
      "+-------------------+-------+---------------------+\n"
     ]
    }
   ],
   "source": [
    "misc_categories = [\"counting\", \"repeating pattern\", \"perspective\", \"occlusion\", \"angle constancy\"]\n",
    "\n",
    "new_table = prettytable.PrettyTable()\n",
    "new_table.field_names = [\"Category\", \"Total\", MODEL_ANSWER_KEY]\n",
    "for category in category_total:\n",
    "    if category not in misc_categories:\n",
    "        new_table.add_row([category, category_total[category],\n",
    "                     category_correct[category] / category_total[category]\n",
    "                     ])\n",
    "if total_misc > 0:\n",
    "    new_table.add_row([\"Misc\", total_misc, total_misc_correct / total_misc])\n",
    "new_table.add_row([\"Total\", total, total_correct / total])\n",
    "\n",
    "# sort by total\n",
    "new_table.sortby = \"Total\"\n",
    "new_table.reversesort = True\n",
    "\n",
    "\n",
    "print(new_table)"
   ]
  }
 ],
 "metadata": {
  "kernelspec": {
   "display_name": "Python 3",
   "language": "python",
   "name": "python3"
  },
  "language_info": {
   "codemirror_mode": {
    "name": "ipython",
    "version": 3
   },
   "file_extension": ".py",
   "mimetype": "text/x-python",
   "name": "python",
   "nbconvert_exporter": "python",
   "pygments_lexer": "ipython3",
   "version": "3.12.4"
  }
 },
 "nbformat": 4,
 "nbformat_minor": 2
}
