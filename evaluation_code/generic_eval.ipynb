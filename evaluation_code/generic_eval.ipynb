{
 "cells": [
  {
   "cell_type": "code",
   "execution_count": 16,
   "metadata": {},
   "outputs": [],
   "source": [
    "import json\n",
    "import prettytable\n",
    "import random\n",
    "from collections import defaultdict\n",
    "\n",
    "random.seed(53)\n",
    "\n",
    "MODEL_ANSWER_KEY = \"vlm_answer\"\n",
    "FILE_PATH = \"/home/salkhon/repo/IllusionVQA/result_jsons/qwen2vl_72b_comprehension_4shot.json\"\n",
    "category_correct = defaultdict(int)\n",
    "category_total = defaultdict(int)\n",
    "\n",
    "\n",
    "with open(FILE_PATH) as f:\n",
    "    dataset = json.load(f)\n",
    "\n",
    "\n",
    "for item in dataset:\n",
    "    model_answer = item.get(MODEL_ANSWER_KEY, \"a\")[0]\n",
    "\n",
    "    answer = item[\"correct_option_letter\"]\n",
    "    category = item[\"category\"]\n",
    "\n",
    "    if model_answer == answer:\n",
    "        category_correct[category] += 1\n",
    "\n",
    "    category_total[category] += 1"
   ]
  },
  {
   "cell_type": "code",
   "execution_count": 17,
   "metadata": {},
   "outputs": [
    {
     "name": "stdout",
     "output_type": "stream",
     "text": [
      "Accuracy:  0.39770114942528734\n",
      "Total:  435\n"
     ]
    }
   ],
   "source": [
    "total_correct = 0\n",
    "total = 0\n",
    "\n",
    "for category in category_total:\n",
    "    total_correct += category_correct[category]\n",
    "    total += category_total[category]\n",
    "\n",
    "print(\"Accuracy: \", total_correct / total)\n",
    "print(\"Total: \", total)"
   ]
  },
  {
   "cell_type": "code",
   "execution_count": 18,
   "metadata": {},
   "outputs": [
    {
     "name": "stdout",
     "output_type": "stream",
     "text": [
      "+-------------------------+-------+---------------------+\n",
      "|         Category        | Total |      vlm_answer     |\n",
      "+-------------------------+-------+---------------------+\n",
      "|    impossible object    |  134  |  0.4626865671641791 |\n",
      "|        real-scene       |   64  |       0.421875      |\n",
      "|           size          |   46  | 0.34782608695652173 |\n",
      "|          hidden         |   45  | 0.15555555555555556 |\n",
      "|     deceptive design    |   37  |  0.5135135135135135 |\n",
      "|      angle illusion     |   26  | 0.34615384615384615 |\n",
      "|          color          |   23  | 0.30434782608695654 |\n",
      "|       edited-scene      |   21  | 0.38095238095238093 |\n",
      "|         counting        |   11  | 0.18181818181818182 |\n",
      "|       upside-down       |   7   |  0.8571428571428571 |\n",
      "| positive-negative space |   7   |  0.2857142857142857 |\n",
      "|      circle-spiral      |   6   |         0.5         |\n",
      "|    repeating pattern    |   2   |         0.0         |\n",
      "|       perspective       |   2   |         1.0         |\n",
      "|        occlusion        |   2   |         0.5         |\n",
      "|     angle constancy     |   2   |         1.0         |\n",
      "+-------------------------+-------+---------------------+\n"
     ]
    }
   ],
   "source": [
    "table = prettytable.PrettyTable()\n",
    "table.field_names = [\"Category\", \"Total\", MODEL_ANSWER_KEY]\n",
    "for category in category_total:\n",
    "    table.add_row([category, category_total[category],\n",
    "                     category_correct[category] / category_total[category]\n",
    "                     ])\n",
    "#sort by total\n",
    "table.sortby = \"Total\"\n",
    "table.reversesort = True\n",
    "print(table)"
   ]
  },
  {
   "cell_type": "code",
   "execution_count": 19,
   "metadata": {},
   "outputs": [
    {
     "name": "stdout",
     "output_type": "stream",
     "text": [
      "Misc Accuracy:  0.3684210526315789\n"
     ]
    }
   ],
   "source": [
    "misc_categories = [\"counting\", \"repeating pattern\", \"perspective\", \"occlusion\", \"angle constancy\"]\n",
    "\n",
    "total_misc_correct = 0\n",
    "total_misc = 0\n",
    "\n",
    "for category in misc_categories:\n",
    "    total_misc_correct += category_correct[category]\n",
    "    total_misc += category_total[category]\n",
    "\n",
    "\n",
    "if total_misc > 0:\n",
    "    print(\"Misc Accuracy: \", total_misc_correct / total_misc)"
   ]
  },
  {
   "cell_type": "code",
   "execution_count": 20,
   "metadata": {},
   "outputs": [
    {
     "name": "stdout",
     "output_type": "stream",
     "text": [
      "+-------------------------+-------+---------------------+\n",
      "|         Category        | Total |      vlm_answer     |\n",
      "+-------------------------+-------+---------------------+\n",
      "|          Total          |  435  | 0.39770114942528734 |\n",
      "|    impossible object    |  134  |  0.4626865671641791 |\n",
      "|        real-scene       |   64  |       0.421875      |\n",
      "|           size          |   46  | 0.34782608695652173 |\n",
      "|          hidden         |   45  | 0.15555555555555556 |\n",
      "|     deceptive design    |   37  |  0.5135135135135135 |\n",
      "|      angle illusion     |   26  | 0.34615384615384615 |\n",
      "|          color          |   23  | 0.30434782608695654 |\n",
      "|       edited-scene      |   21  | 0.38095238095238093 |\n",
      "|           Misc          |   19  |  0.3684210526315789 |\n",
      "|       upside-down       |   7   |  0.8571428571428571 |\n",
      "| positive-negative space |   7   |  0.2857142857142857 |\n",
      "|      circle-spiral      |   6   |         0.5         |\n",
      "+-------------------------+-------+---------------------+\n"
     ]
    }
   ],
   "source": [
    "misc_categories = [\"counting\", \"repeating pattern\", \"perspective\", \"occlusion\", \"angle constancy\"]\n",
    "\n",
    "new_table = prettytable.PrettyTable()\n",
    "new_table.field_names = [\"Category\", \"Total\", MODEL_ANSWER_KEY]\n",
    "for category in category_total:\n",
    "    if category not in misc_categories:\n",
    "        new_table.add_row([category, category_total[category],\n",
    "                     category_correct[category] / category_total[category]\n",
    "                     ])\n",
    "if total_misc > 0:\n",
    "    new_table.add_row([\"Misc\", total_misc, total_misc_correct / total_misc])\n",
    "new_table.add_row([\"Total\", total, total_correct / total])\n",
    "\n",
    "# sort by total\n",
    "new_table.sortby = \"Total\"\n",
    "new_table.reversesort = True\n",
    "\n",
    "\n",
    "print(new_table)"
   ]
  }
 ],
 "metadata": {
  "kernelspec": {
   "display_name": "Python 3",
   "language": "python",
   "name": "python3"
  },
  "language_info": {
   "codemirror_mode": {
    "name": "ipython",
    "version": 3
   },
   "file_extension": ".py",
   "mimetype": "text/x-python",
   "name": "python",
   "nbconvert_exporter": "python",
   "pygments_lexer": "ipython3",
   "version": "3.11.9"
  }
 },
 "nbformat": 4,
 "nbformat_minor": 2
}
