{
 "cells": [
  {
   "cell_type": "code",
   "execution_count": 1,
   "metadata": {},
   "outputs": [],
   "source": [
    "import json\n",
    "import prettytable\n",
    "import random\n",
    "from collections import defaultdict\n",
    "\n",
    "random.seed(53)\n",
    "\n",
    "MODEL_ANSWER_KEY = \"vlm_answer\"\n",
    "FILE_PATH = \"/home/salkhon/repo/IllusionVQA/result_jsons/llama3.2_90b_sofloc_0shot.json\"\n",
    "category_correct = defaultdict(int)\n",
    "category_total = defaultdict(int)\n",
    "\n",
    "\n",
    "with open(FILE_PATH) as f:\n",
    "    dataset = json.load(f)\n",
    "\n",
    "\n",
    "for item in dataset:\n",
    "    model_answer = item.get(MODEL_ANSWER_KEY, \"a\")[0]\n",
    "\n",
    "    answer = item[\"correct_option_letter\"]\n",
    "    category = item[\"category\"]\n",
    "\n",
    "    if model_answer == answer:\n",
    "        category_correct[category] += 1\n",
    "\n",
    "    category_total[category] += 1"
   ]
  },
  {
   "cell_type": "code",
   "execution_count": 2,
   "metadata": {},
   "outputs": [
    {
     "name": "stdout",
     "output_type": "stream",
     "text": [
      "Accuracy:  0.48735632183908045\n",
      "Total:  435\n"
     ]
    }
   ],
   "source": [
    "total_correct = 0\n",
    "total = 0\n",
    "\n",
    "for category in category_total:\n",
    "    total_correct += category_correct[category]\n",
    "    total += category_total[category]\n",
    "\n",
    "print(\"Accuracy: \", total_correct / total)\n",
    "print(\"Total: \", total)"
   ]
  },
  {
   "cell_type": "code",
   "execution_count": 3,
   "metadata": {},
   "outputs": [
    {
     "name": "stdout",
     "output_type": "stream",
     "text": [
      "+-------------------------+-------+---------------------+\n",
      "|         Category        | Total |      vlm_answer     |\n",
      "+-------------------------+-------+---------------------+\n",
      "|    impossible object    |  134  |  0.5074626865671642 |\n",
      "|        real-scene       |   64  |       0.46875       |\n",
      "|           size          |   46  | 0.43478260869565216 |\n",
      "|          hidden         |   45  |  0.4222222222222222 |\n",
      "|     deceptive design    |   37  |  0.6486486486486487 |\n",
      "|      angle illusion     |   26  |  0.5769230769230769 |\n",
      "|          color          |   23  | 0.21739130434782608 |\n",
      "|       edited-scene      |   21  |  0.6666666666666666 |\n",
      "|         counting        |   11  |  0.5454545454545454 |\n",
      "|       upside-down       |   7   |  0.2857142857142857 |\n",
      "| positive-negative space |   7   |  0.7142857142857143 |\n",
      "|      circle-spiral      |   6   | 0.16666666666666666 |\n",
      "|    repeating pattern    |   2   |         0.0         |\n",
      "|       perspective       |   2   |         0.5         |\n",
      "|        occlusion        |   2   |         0.5         |\n",
      "|     angle constancy     |   2   |         0.5         |\n",
      "+-------------------------+-------+---------------------+\n"
     ]
    }
   ],
   "source": [
    "table = prettytable.PrettyTable()\n",
    "table.field_names = [\"Category\", \"Total\", MODEL_ANSWER_KEY]\n",
    "for category in category_total:\n",
    "    table.add_row([category, category_total[category],\n",
    "                     category_correct[category] / category_total[category]\n",
    "                     ])\n",
    "#sort by total\n",
    "table.sortby = \"Total\"\n",
    "table.reversesort = True\n",
    "print(table)"
   ]
  },
  {
   "cell_type": "code",
   "execution_count": 4,
   "metadata": {},
   "outputs": [
    {
     "name": "stdout",
     "output_type": "stream",
     "text": [
      "Misc Accuracy:  0.47368421052631576\n"
     ]
    }
   ],
   "source": [
    "misc_categories = [\"counting\", \"repeating pattern\", \"perspective\", \"occlusion\", \"angle constancy\"]\n",
    "\n",
    "total_misc_correct = 0\n",
    "total_misc = 0\n",
    "\n",
    "for category in misc_categories:\n",
    "    total_misc_correct += category_correct[category]\n",
    "    total_misc += category_total[category]\n",
    "\n",
    "\n",
    "if total_misc > 0:\n",
    "    print(\"Misc Accuracy: \", total_misc_correct / total_misc)"
   ]
  },
  {
   "cell_type": "code",
   "execution_count": 5,
   "metadata": {},
   "outputs": [
    {
     "name": "stdout",
     "output_type": "stream",
     "text": [
      "+-------------------------+-------+---------------------+\n",
      "|         Category        | Total |      vlm_answer     |\n",
      "+-------------------------+-------+---------------------+\n",
      "|          Total          |  435  | 0.48735632183908045 |\n",
      "|    impossible object    |  134  |  0.5074626865671642 |\n",
      "|        real-scene       |   64  |       0.46875       |\n",
      "|           size          |   46  | 0.43478260869565216 |\n",
      "|          hidden         |   45  |  0.4222222222222222 |\n",
      "|     deceptive design    |   37  |  0.6486486486486487 |\n",
      "|      angle illusion     |   26  |  0.5769230769230769 |\n",
      "|          color          |   23  | 0.21739130434782608 |\n",
      "|       edited-scene      |   21  |  0.6666666666666666 |\n",
      "|           Misc          |   19  | 0.47368421052631576 |\n",
      "|       upside-down       |   7   |  0.2857142857142857 |\n",
      "| positive-negative space |   7   |  0.7142857142857143 |\n",
      "|      circle-spiral      |   6   | 0.16666666666666666 |\n",
      "+-------------------------+-------+---------------------+\n"
     ]
    }
   ],
   "source": [
    "misc_categories = [\"counting\", \"repeating pattern\", \"perspective\", \"occlusion\", \"angle constancy\"]\n",
    "\n",
    "new_table = prettytable.PrettyTable()\n",
    "new_table.field_names = [\"Category\", \"Total\", MODEL_ANSWER_KEY]\n",
    "for category in category_total:\n",
    "    if category not in misc_categories:\n",
    "        new_table.add_row([category, category_total[category],\n",
    "                     category_correct[category] / category_total[category]\n",
    "                     ])\n",
    "if total_misc > 0:\n",
    "    new_table.add_row([\"Misc\", total_misc, total_misc_correct / total_misc])\n",
    "new_table.add_row([\"Total\", total, total_correct / total])\n",
    "\n",
    "# sort by total\n",
    "new_table.sortby = \"Total\"\n",
    "new_table.reversesort = True\n",
    "\n",
    "\n",
    "print(new_table)"
   ]
  }
 ],
 "metadata": {
  "kernelspec": {
   "display_name": "molecule",
   "language": "python",
   "name": "python3"
  },
  "language_info": {
   "codemirror_mode": {
    "name": "ipython",
    "version": 3
   },
   "file_extension": ".py",
   "mimetype": "text/x-python",
   "name": "python",
   "nbconvert_exporter": "python",
   "pygments_lexer": "ipython3",
   "version": "3.11.9"
  }
 },
 "nbformat": 4,
 "nbformat_minor": 2
}
