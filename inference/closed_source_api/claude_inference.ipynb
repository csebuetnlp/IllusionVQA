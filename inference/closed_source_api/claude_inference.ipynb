{
 "cells": [
  {
   "cell_type": "code",
   "execution_count": 1,
   "metadata": {},
   "outputs": [],
   "source": [
    "from PIL import Image\n",
    "import base64\n",
    "import anthropic\n",
    "from dotenv import load_dotenv\n",
    "import os\n",
    "from collections import defaultdict\n",
    "import os\n",
    "import random\n",
    "from tqdm import tqdm\n",
    "\n",
    "random.seed(42)\n",
    "load_dotenv()\n",
    "\n",
    "\n",
    "def resize_image(image_path, size):\n",
    "    \"\"\"resize image so that the largest edge is atmost size\"\"\"\n",
    "    img = Image.open(image_path)\n",
    "    width, height = img.size\n",
    "\n",
    "    if width <= size and height <= size:\n",
    "        return img\n",
    "\n",
    "    if width > height:\n",
    "        new_width = size\n",
    "        new_height = int(height * (size / width))\n",
    "    else:\n",
    "        new_height = size\n",
    "        new_width = int(width * (size / height))\n",
    "    img = img.resize((new_width, new_height), Image.Resampling.LANCZOS)\n",
    "    return img\n",
    "\n",
    "\n",
    "def encode_image(image_path):\n",
    "    img = resize_image(image_path, 512)\n",
    "    temp_name = \"temp.jpg\"\n",
    "    img.save(temp_name)\n",
    "    with open(temp_name, \"rb\") as image_file:\n",
    "        return base64.b64encode(image_file.read()).decode(\"utf-8\")\n",
    "\n",
    "\n",
    "def construct_mcq(options, correct_option):\n",
    "    correct_option_letter = None\n",
    "    i = \"a\"\n",
    "    mcq = \"\"\n",
    "\n",
    "    for option in options:\n",
    "        if option == correct_option:\n",
    "            correct_option_letter = i\n",
    "        mcq += f\"{i}. {option}\\n\"\n",
    "        i = chr(ord(i) + 1)\n",
    "\n",
    "    mcq = mcq[:-1]\n",
    "    return mcq, correct_option_letter\n",
    "\n",
    "\n",
    "def add_row(content: list[dict], data: dict, i: int, with_answer=False) -> list[dict]:\n",
    "    content.append(\n",
    "        {\n",
    "            \"type\": \"text\",\n",
    "            \"text\": \"Image \" + str(i) + \": \" + data[\"question\"] + \"\\n\" + data[\"mcq\"],\n",
    "        }\n",
    "    )\n",
    "\n",
    "    content.append(\n",
    "        {\n",
    "            \"type\": \"image\",\n",
    "            \"source\": {\n",
    "                \"type\": \"base64\",\n",
    "                \"media_type\": \"image/jpeg\",\n",
    "                \"data\": encode_image(data[\"image_path\"]),\n",
    "            },\n",
    "        }\n",
    "    )\n",
    "\n",
    "    if with_answer:\n",
    "        content.append(\n",
    "            {\n",
    "                \"type\": \"text\",\n",
    "                \"text\": \"Answer {}: \".format(i) + data[\"correct_option_letter\"],\n",
    "            }\n",
    "        )\n",
    "    else:\n",
    "        content.append(\n",
    "            {\n",
    "                \"type\": \"text\",\n",
    "                \"text\": \"Answer {}: \".format(i),\n",
    "            }\n",
    "        )\n",
    "\n",
    "    return content"
   ]
  },
  {
   "cell_type": "code",
   "execution_count": 2,
   "metadata": {},
   "outputs": [],
   "source": [
    "FEWSHOT_JSON = \"illusionVQA/comprehension/fewshot_labels.json\"\n",
    "FEWSHOT_IMAGE_DIR = \"illusionVQA/comprehension/FEW_SHOTS/\"\n",
    "EVAL_JSON = \"illusionVQA/comprehension/eval_labels.json\"\n",
    "EVAL_IMAGE_DIR = \"illusionVQA/comprehension/EVAL/\"\n",
    "\n",
    "client = anthropic.Anthropic()\n",
    "model_name = \"claude-3-5-sonnet-20240620\""
   ]
  },
  {
   "cell_type": "code",
   "execution_count": 3,
   "metadata": {},
   "outputs": [],
   "source": [
    "import json\n",
    "\n",
    "with open(FEWSHOT_JSON) as f:\n",
    "    fewshot_dataset = json.load(f)\n",
    "\n",
    "for data in fewshot_dataset:\n",
    "    data[\"image_path\"] = FEWSHOT_IMAGE_DIR + data[\"image\"]\n",
    "    data[\"mcq\"], data[\"correct_option_letter\"] = construct_mcq(\n",
    "        data[\"options\"], data[\"answer\"]\n",
    "    )"
   ]
  },
  {
   "cell_type": "code",
   "execution_count": 4,
   "metadata": {},
   "outputs": [],
   "source": [
    "with open(EVAL_JSON) as f:\n",
    "    eval_dataset = json.load(f)\n",
    "\n",
    "random.shuffle(eval_dataset)"
   ]
  },
  {
   "cell_type": "code",
   "execution_count": 5,
   "metadata": {},
   "outputs": [
    {
     "name": "stdout",
     "output_type": "stream",
     "text": [
      "defaultdict(<class 'int'>, {'deceptive design': 37, 'impossible object': 134, 'misc': 19, 'color': 23, 'edited-scene': 21, 'size': 46, 'hidden': 45, 'real-scene': 64, 'angle illusion': 26, 'circle-spiral': 6, 'upside-down': 7, 'positive-negative space': 7})\n",
      "435\n"
     ]
    }
   ],
   "source": [
    "category_count = defaultdict(int)\n",
    "misc_cats = [\n",
    "    \"counting\",\n",
    "    \"repeating pattern\",\n",
    "    \"perspective\",\n",
    "    \"occlusion\",\n",
    "    \"angle constancy\",\n",
    "]\n",
    "\n",
    "for data in eval_dataset:\n",
    "    if data[\"image\"] not in os.listdir(EVAL_IMAGE_DIR):\n",
    "        print(data[\"image\"], \"not found\")\n",
    "        continue\n",
    "    data[\"image_path\"] = EVAL_IMAGE_DIR + data[\"image\"]\n",
    "    data[\"mcq\"], data[\"correct_option_letter\"] = construct_mcq(\n",
    "        data[\"options\"], data[\"answer\"]\n",
    "    )\n",
    "    \n",
    "    if data[\"category\"] in misc_cats:\n",
    "        data[\"category\"] = \"misc\"\n",
    "        \n",
    "    category_count[data[\"category\"]] += 1\n",
    "\n",
    "print(category_count)\n",
    "print(len(eval_dataset))"
   ]
  },
  {
   "cell_type": "markdown",
   "metadata": {},
   "source": [
    "### 0-shot"
   ]
  },
  {
   "cell_type": "code",
   "execution_count": 6,
   "metadata": {},
   "outputs": [],
   "source": [
    "# content = [\n",
    "#     {\n",
    "#         \"type\": \"text\",\n",
    "#         \"text\": \"You'll be given an image, an instruction and some options. You have to select the correct one. Do not explain your reasoning. Answer with only the letter which corresponds to the correct option. Do not repeat the entire answer.\",\n",
    "#     }\n",
    "# ]\n",
    "# next_idx = 1"
   ]
  },
  {
   "cell_type": "markdown",
   "metadata": {},
   "source": [
    "### 4-shot"
   ]
  },
  {
   "cell_type": "code",
   "execution_count": 6,
   "metadata": {},
   "outputs": [],
   "source": [
    "content = [\n",
    "    {\n",
    "        \"type\": \"text\",\n",
    "        \"text\": \"You'll be given an image, an instruction and some choices. You have to select the correct one. Do not explain your reasoning. Answer with the option's letter from the given choices directly. Here are a few examples:\",\n",
    "    }\n",
    "]\n",
    "\n",
    "\n",
    "i = 1\n",
    "for data in fewshot_dataset:\n",
    "    content = add_row(content, data, i, with_answer=True)\n",
    "    i += 1\n",
    "\n",
    "content.append(\n",
    "    {\n",
    "        \"type\": \"text\",\n",
    "        \"text\": \"Now you try it!\",\n",
    "    }\n",
    ")\n",
    "\n",
    "next_idx = i"
   ]
  },
  {
   "cell_type": "markdown",
   "metadata": {},
   "source": [
    "### Evaluation Loop"
   ]
  },
  {
   "cell_type": "code",
   "execution_count": 7,
   "metadata": {},
   "outputs": [],
   "source": [
    "ytrue = []\n",
    "ypred = []"
   ]
  },
  {
   "cell_type": "code",
   "execution_count": 9,
   "metadata": {},
   "outputs": [
    {
     "name": "stderr",
     "output_type": "stream",
     "text": [
      "100%|██████████| 435/435 [22:28<00:00,  3.10s/it]\n"
     ]
    }
   ],
   "source": [
    "import time\n",
    "\n",
    "MAX_RETRIES = 2\n",
    "for data in tqdm(eval_dataset):\n",
    "    content_t = add_row(content.copy(), data, next_idx, with_answer=False)\n",
    "    retries = MAX_RETRIES\n",
    "    while retries:\n",
    "        try:\n",
    "            message = client.messages.create(\n",
    "                model=model_name,\n",
    "                max_tokens=1024,\n",
    "                messages=[\n",
    "                    {\n",
    "                        \"role\": \"user\",\n",
    "                        \"content\": content_t,\n",
    "                    }\n",
    "                ],\n",
    "            )\n",
    "            # print(message)\n",
    "            claude_ans = message.content[0].text.lower().strip()\n",
    "            break\n",
    "        except Exception as e:\n",
    "            print(e)\n",
    "            retries -= 1\n",
    "            time.sleep(30)\n",
    "            if retries == 0:\n",
    "                claude_ans = \"Claude could not answer this question.\"\n",
    "                print(\"retries exhausted\")\n",
    "                break\n",
    "\n",
    "    answer = data[\"correct_option_letter\"].strip()\n",
    "    ytrue.append(answer)\n",
    "    ypred.append(claude_ans)"
   ]
  },
  {
   "cell_type": "code",
   "execution_count": 10,
   "metadata": {},
   "outputs": [],
   "source": [
    "for i in range(len(ypred)):\n",
    "    if ypred[i] == \"Claude could not answer this question.\":\n",
    "        print(i)"
   ]
  },
  {
   "cell_type": "code",
   "execution_count": 11,
   "metadata": {},
   "outputs": [
    {
     "data": {
      "text/plain": [
       "(435, 435)"
      ]
     },
     "execution_count": 11,
     "metadata": {},
     "output_type": "execute_result"
    }
   ],
   "source": [
    "len(ytrue), len(ypred)"
   ]
  },
  {
   "cell_type": "markdown",
   "metadata": {},
   "source": [
    "### Result Analysis"
   ]
  },
  {
   "cell_type": "code",
   "execution_count": 12,
   "metadata": {},
   "outputs": [
    {
     "name": "stdout",
     "output_type": "stream",
     "text": [
      "0.664367816091954\n",
      "[[79 14 12 10  1  0  0]\n",
      " [11 72 13 10  3  0  0]\n",
      " [12 17 69 11  0  0  0]\n",
      " [ 8  4  7 64  3  0  0]\n",
      " [ 0  4  2  1  4  0  0]\n",
      " [ 1  0  0  0  1  1  1]\n",
      " [ 0  0  0  0  0  0  0]]\n",
      "              precision    recall  f1-score   support\n",
      "\n",
      "           a       0.71      0.68      0.70       116\n",
      "           b       0.65      0.66      0.65       109\n",
      "           c       0.67      0.63      0.65       109\n",
      "           d       0.67      0.74      0.70        86\n",
      "           e       0.33      0.36      0.35        11\n",
      "           f       1.00      0.25      0.40         4\n",
      "           h       0.00      0.00      0.00         0\n",
      "\n",
      "    accuracy                           0.66       435\n",
      "   macro avg       0.58      0.48      0.49       435\n",
      "weighted avg       0.67      0.66      0.66       435\n",
      "\n",
      "Counter({'a': 116, 'c': 109, 'b': 109, 'd': 86, 'e': 11, 'f': 4})\n",
      "Counter({'a': 111, 'b': 111, 'c': 103, 'd': 96, 'e': 12, 'h': 1, 'f': 1})\n"
     ]
    },
    {
     "name": "stderr",
     "output_type": "stream",
     "text": [
      "/home/salkhon/miniconda3/envs/general/lib/python3.12/site-packages/sklearn/metrics/_classification.py:1531: UndefinedMetricWarning: Recall is ill-defined and being set to 0.0 in labels with no true samples. Use `zero_division` parameter to control this behavior.\n",
      "  _warn_prf(average, modifier, f\"{metric.capitalize()} is\", len(result))\n",
      "/home/salkhon/miniconda3/envs/general/lib/python3.12/site-packages/sklearn/metrics/_classification.py:1531: UndefinedMetricWarning: Recall is ill-defined and being set to 0.0 in labels with no true samples. Use `zero_division` parameter to control this behavior.\n",
      "  _warn_prf(average, modifier, f\"{metric.capitalize()} is\", len(result))\n",
      "/home/salkhon/miniconda3/envs/general/lib/python3.12/site-packages/sklearn/metrics/_classification.py:1531: UndefinedMetricWarning: Recall is ill-defined and being set to 0.0 in labels with no true samples. Use `zero_division` parameter to control this behavior.\n",
      "  _warn_prf(average, modifier, f\"{metric.capitalize()} is\", len(result))\n"
     ]
    }
   ],
   "source": [
    "from sklearn.metrics import accuracy_score, classification_report, confusion_matrix\n",
    "from collections import Counter\n",
    "\n",
    "print(accuracy_score(ytrue, ypred))\n",
    "print(confusion_matrix(ytrue, ypred))\n",
    "print(classification_report(ytrue, ypred))\n",
    "\n",
    "print(Counter(ytrue))\n",
    "print(Counter(ypred))"
   ]
  },
  {
   "cell_type": "code",
   "execution_count": 13,
   "metadata": {},
   "outputs": [
    {
     "name": "stdout",
     "output_type": "stream",
     "text": [
      "+-------------------------+-------+-------+--------------------+\n",
      "|         Category        | Total | Wrong |      Accuracy      |\n",
      "+-------------------------+-------+-------+--------------------+\n",
      "|          Total          |  435  |  146  | 0.6643678160919539 |\n",
      "|    impossible object    |  134  |   49  | 0.6343283582089552 |\n",
      "|        real-scene       |   64  |   27  |      0.578125      |\n",
      "|           size          |   46  |   9   | 0.8043478260869565 |\n",
      "|          hidden         |   45  |   25  | 0.4444444444444444 |\n",
      "|     deceptive design    |   37  |   12  | 0.6756756756756757 |\n",
      "|          color          |   23  |   3   | 0.8695652173913043 |\n",
      "|       edited-scene      |   21  |   6   | 0.7142857142857143 |\n",
      "|           misc          |   19  |   9   | 0.5263157894736843 |\n",
      "|       upside-down       |   7   |   1   | 0.8571428571428572 |\n",
      "| positive-negative space |   7   |   2   | 0.7142857142857143 |\n",
      "|      circle-spiral      |   6   |   3   |        0.5         |\n",
      "+-------------------------+-------+-------+--------------------+\n"
     ]
    }
   ],
   "source": [
    "import prettytable\n",
    "from collections import defaultdict\n",
    "\n",
    "table = prettytable.PrettyTable()\n",
    "table.field_names = [\"Category\", \"Total\", \"Wrong\", \"Accuracy\"]\n",
    "\n",
    "got_wrong_dict = defaultdict(int)\n",
    "total_wrong = 0\n",
    "\n",
    "for i in range(len(ypred)):\n",
    "    if ypred[i] != ytrue[i]:\n",
    "        got_wrong_dict[eval_dataset[i][\"category\"]] += 1\n",
    "        total_wrong += 1\n",
    "\n",
    "\n",
    "for k, v in got_wrong_dict.items():\n",
    "    table.add_row([k, category_count[k], v, 1 - (v / category_count[k])])\n",
    "\n",
    "table.add_row(\n",
    "    [\n",
    "        \"Total\",\n",
    "        len(eval_dataset),\n",
    "        total_wrong,\n",
    "        1 - (total_wrong / len(eval_dataset)),\n",
    "    ]\n",
    ")\n",
    "\n",
    "\n",
    "# sort by total\n",
    "table.sortby = \"Total\"\n",
    "table.reversesort = True\n",
    "print(table)"
   ]
  },
  {
   "cell_type": "code",
   "execution_count": 14,
   "metadata": {},
   "outputs": [
    {
     "name": "stdout",
     "output_type": "stream",
     "text": [
      "435\n"
     ]
    }
   ],
   "source": [
    "eval_dataset_copy = eval_dataset.copy()\n",
    "\n",
    "print(len(eval_dataset_copy))\n",
    "for i, data in enumerate(eval_dataset_copy):\n",
    "    # map letter to option f\n",
    "    if \"BLOCK\" in ypred[i]:\n",
    "        data[\"vlm_answer\"] = \"BLOCK\"\n",
    "    else:\n",
    "        try:\n",
    "            data[\"vlm_answer\"] = data[\"options\"][ord(ypred[i]) - ord(\"a\")]\n",
    "        except Exception as e:\n",
    "            data[\"vlm_answer\"] = ypred[i]\n",
    "            print(ypred[i])"
   ]
  },
  {
   "cell_type": "code",
   "execution_count": 15,
   "metadata": {},
   "outputs": [],
   "source": [
    "import json\n",
    "\n",
    "METRIC_SAVE_DIR = \"../../results_and_evaluation/closed_source/results/\"\n",
    "\n",
    "with open(METRIC_SAVE_DIR + \"illusionvqa_comprehension_claude_4shot_results.json\", \"w\") as f:\n",
    "    json.dump(eval_dataset_copy, f, indent=4)"
   ]
  },
  {
   "cell_type": "code",
   "execution_count": null,
   "metadata": {},
   "outputs": [],
   "source": []
  }
 ],
 "metadata": {
  "kernelspec": {
   "display_name": "Python 3",
   "language": "python",
   "name": "python3"
  },
  "language_info": {
   "codemirror_mode": {
    "name": "ipython",
    "version": 3
   },
   "file_extension": ".py",
   "mimetype": "text/x-python",
   "name": "python",
   "nbconvert_exporter": "python",
   "pygments_lexer": "ipython3",
   "version": "3.12.4"
  }
 },
 "nbformat": 4,
 "nbformat_minor": 2
}
